{
  "nbformat": 4,
  "nbformat_minor": 0,
  "metadata": {
    "colab": {
      "name": "my_fcc_sms_text_classification.ipynb",
      "provenance": [],
      "collapsed_sections": [],
      "toc_visible": true
    },
    "kernelspec": {
      "display_name": "Python 3",
      "name": "python3"
    }
  },
  "cells": [
    {
      "cell_type": "markdown",
      "metadata": {
        "id": "Eg62Pmz3o83v"
      },
      "source": [
        "*Note: You are currently reading this using Google Colaboratory which is a cloud-hosted version of Jupyter Notebook. This is a document containing both text cells for documentation and runnable code cells. If you are unfamiliar with Jupyter Notebook, watch this 3-minute introduction before starting this challenge: https://www.youtube.com/watch?v=inN8seMm7UI*\n",
        "\n",
        "---\n",
        "\n",
        "In this challenge, you need to create a machine learning model that will classify SMS messages as either \"ham\" or \"spam\". A \"ham\" message is a normal message sent by a friend. A \"spam\" message is an advertisement or a message sent by a company.\n",
        "\n",
        "You should create a function called `predict_message` that takes a message string as an argument and returns a list. The first element in the list should be a number between zero and one that indicates the likeliness of \"ham\" (0) or \"spam\" (1). The second element in the list should be the word \"ham\" or \"spam\", depending on which is most likely.\n",
        "\n",
        "For this challenge, you will use the [SMS Spam Collection dataset](http://www.dt.fee.unicamp.br/~tiago/smsspamcollection/). The dataset has already been grouped into train data and test data.\n",
        "\n",
        "The first two cells import the libraries and data. The final cell tests your model and function. Add your code in between these cells.\n"
      ]
    },
    {
      "cell_type": "code",
      "metadata": {
        "id": "8RZOuS9LWQvv",
        "outputId": "c732874c-0fa8-4023-cb0f-53803a9f752c",
        "colab": {
          "base_uri": "https://localhost:8080/",
          "height": 390
        }
      },
      "source": [
        "# import libraries\n",
        "#try:\n",
        "  # %tensorflow_version only exists in Colab.\n",
        "  #!pip install tf-nightly\n",
        "#except Exception:\n",
        "#  pass\n",
        "import tensorflow as tf\n",
        "import pandas as pd\n",
        "from tensorflow import keras\n",
        "!pip install tensorflow-datasets\n",
        "import tensorflow_datasets as tfds\n",
        "import numpy as np\n",
        "import matplotlib.pyplot as plt\n",
        "import shutil\n",
        "\n",
        "print(tf.__version__)"
      ],
      "execution_count": 1,
      "outputs": [
        {
          "output_type": "stream",
          "text": [
            "Requirement already satisfied: tensorflow-datasets in /usr/local/lib/python3.6/dist-packages (2.1.0)\n",
            "Requirement already satisfied: wrapt in /usr/local/lib/python3.6/dist-packages (from tensorflow-datasets) (1.12.1)\n",
            "Requirement already satisfied: tqdm in /usr/local/lib/python3.6/dist-packages (from tensorflow-datasets) (4.41.1)\n",
            "Requirement already satisfied: attrs>=18.1.0 in /usr/local/lib/python3.6/dist-packages (from tensorflow-datasets) (20.2.0)\n",
            "Requirement already satisfied: tensorflow-metadata in /usr/local/lib/python3.6/dist-packages (from tensorflow-datasets) (0.24.0)\n",
            "Requirement already satisfied: six in /usr/local/lib/python3.6/dist-packages (from tensorflow-datasets) (1.15.0)\n",
            "Requirement already satisfied: numpy in /usr/local/lib/python3.6/dist-packages (from tensorflow-datasets) (1.18.5)\n",
            "Requirement already satisfied: protobuf>=3.6.1 in /usr/local/lib/python3.6/dist-packages (from tensorflow-datasets) (3.12.4)\n",
            "Requirement already satisfied: absl-py in /usr/local/lib/python3.6/dist-packages (from tensorflow-datasets) (0.10.0)\n",
            "Requirement already satisfied: promise in /usr/local/lib/python3.6/dist-packages (from tensorflow-datasets) (2.3)\n",
            "Requirement already satisfied: future in /usr/local/lib/python3.6/dist-packages (from tensorflow-datasets) (0.16.0)\n",
            "Requirement already satisfied: requests>=2.19.0 in /usr/local/lib/python3.6/dist-packages (from tensorflow-datasets) (2.23.0)\n",
            "Requirement already satisfied: dill in /usr/local/lib/python3.6/dist-packages (from tensorflow-datasets) (0.3.2)\n",
            "Requirement already satisfied: termcolor in /usr/local/lib/python3.6/dist-packages (from tensorflow-datasets) (1.1.0)\n",
            "Requirement already satisfied: googleapis-common-protos<2,>=1.52.0 in /usr/local/lib/python3.6/dist-packages (from tensorflow-metadata->tensorflow-datasets) (1.52.0)\n",
            "Requirement already satisfied: setuptools in /usr/local/lib/python3.6/dist-packages (from protobuf>=3.6.1->tensorflow-datasets) (50.3.0)\n",
            "Requirement already satisfied: urllib3!=1.25.0,!=1.25.1,<1.26,>=1.21.1 in /usr/local/lib/python3.6/dist-packages (from requests>=2.19.0->tensorflow-datasets) (1.24.3)\n",
            "Requirement already satisfied: certifi>=2017.4.17 in /usr/local/lib/python3.6/dist-packages (from requests>=2.19.0->tensorflow-datasets) (2020.6.20)\n",
            "Requirement already satisfied: idna<3,>=2.5 in /usr/local/lib/python3.6/dist-packages (from requests>=2.19.0->tensorflow-datasets) (2.10)\n",
            "Requirement already satisfied: chardet<4,>=3.0.2 in /usr/local/lib/python3.6/dist-packages (from requests>=2.19.0->tensorflow-datasets) (3.0.4)\n",
            "2.3.0\n"
          ],
          "name": "stdout"
        }
      ]
    },
    {
      "cell_type": "code",
      "metadata": {
        "id": "lMHwYXHXCar3"
      },
      "source": [
        "# get data files\n",
        "TRAIN_DATA_URL = \"https://raw.githubusercontent.com/beaucarnes/fcc_python_curriculum/master/sms/train-data.tsv\"\n",
        "TEST_DATA_URL = \"https://raw.githubusercontent.com/beaucarnes/fcc_python_curriculum/master/sms/valid-data.tsv\"\n",
        "\n",
        "train_file_path = tf.keras.utils.get_file(\"train-data.tsv\", TRAIN_DATA_URL)\n",
        "test_file_path = tf.keras.utils.get_file(\"valid-data.tsv\", TEST_DATA_URL)"
      ],
      "execution_count": 2,
      "outputs": []
    },
    {
      "cell_type": "code",
      "metadata": {
        "id": "g_h508FEClxO"
      },
      "source": [
        "train_data = pd.read_table(train_file_path, header=None)\n",
        "test_data = pd.read_table(test_file_path, header=None)"
      ],
      "execution_count": 3,
      "outputs": []
    },
    {
      "cell_type": "code",
      "metadata": {
        "id": "zOMKywn4zReN"
      },
      "source": [
        "train_data.columns= ['label','message']\n",
        "test_data.columns= ['label','message']"
      ],
      "execution_count": 4,
      "outputs": []
    },
    {
      "cell_type": "code",
      "metadata": {
        "id": "gMYtRQQ7Aikb",
        "outputId": "c1a4e6c8-060f-4de4-c2ca-308e841b37dd",
        "colab": {
          "base_uri": "https://localhost:8080/",
          "height": 166
        }
      },
      "source": [
        "train_data.groupby('label').describe().T"
      ],
      "execution_count": 5,
      "outputs": [
        {
          "output_type": "execute_result",
          "data": {
            "text/html": [
              "<div>\n",
              "<style scoped>\n",
              "    .dataframe tbody tr th:only-of-type {\n",
              "        vertical-align: middle;\n",
              "    }\n",
              "\n",
              "    .dataframe tbody tr th {\n",
              "        vertical-align: top;\n",
              "    }\n",
              "\n",
              "    .dataframe thead th {\n",
              "        text-align: right;\n",
              "    }\n",
              "</style>\n",
              "<table border=\"1\" class=\"dataframe\">\n",
              "  <thead>\n",
              "    <tr style=\"text-align: right;\">\n",
              "      <th></th>\n",
              "      <th>label</th>\n",
              "      <th>ham</th>\n",
              "      <th>spam</th>\n",
              "    </tr>\n",
              "  </thead>\n",
              "  <tbody>\n",
              "    <tr>\n",
              "      <th rowspan=\"4\" valign=\"top\">message</th>\n",
              "      <th>count</th>\n",
              "      <td>3619</td>\n",
              "      <td>560</td>\n",
              "    </tr>\n",
              "    <tr>\n",
              "      <th>unique</th>\n",
              "      <td>3430</td>\n",
              "      <td>505</td>\n",
              "    </tr>\n",
              "    <tr>\n",
              "      <th>top</th>\n",
              "      <td>sorry, i'll call later</td>\n",
              "      <td>hmv bonus special 500 pounds of genuine hmv vo...</td>\n",
              "    </tr>\n",
              "    <tr>\n",
              "      <th>freq</th>\n",
              "      <td>22</td>\n",
              "      <td>3</td>\n",
              "    </tr>\n",
              "  </tbody>\n",
              "</table>\n",
              "</div>"
            ],
            "text/plain": [
              "label                              ham                                               spam\n",
              "message count                     3619                                                560\n",
              "        unique                    3430                                                505\n",
              "        top     sorry, i'll call later  hmv bonus special 500 pounds of genuine hmv vo...\n",
              "        freq                        22                                                  3"
            ]
          },
          "metadata": {
            "tags": []
          },
          "execution_count": 5
        }
      ]
    },
    {
      "cell_type": "code",
      "metadata": {
        "id": "-jF0K_QlJY9b",
        "outputId": "2fa472bf-eb53-4c7d-d994-655947bbac32",
        "colab": {
          "base_uri": "https://localhost:8080/",
          "height": 166
        }
      },
      "source": [
        "test_data.groupby('label').describe().T"
      ],
      "execution_count": 6,
      "outputs": [
        {
          "output_type": "execute_result",
          "data": {
            "text/html": [
              "<div>\n",
              "<style scoped>\n",
              "    .dataframe tbody tr th:only-of-type {\n",
              "        vertical-align: middle;\n",
              "    }\n",
              "\n",
              "    .dataframe tbody tr th {\n",
              "        vertical-align: top;\n",
              "    }\n",
              "\n",
              "    .dataframe thead th {\n",
              "        text-align: right;\n",
              "    }\n",
              "</style>\n",
              "<table border=\"1\" class=\"dataframe\">\n",
              "  <thead>\n",
              "    <tr style=\"text-align: right;\">\n",
              "      <th></th>\n",
              "      <th>label</th>\n",
              "      <th>ham</th>\n",
              "      <th>spam</th>\n",
              "    </tr>\n",
              "  </thead>\n",
              "  <tbody>\n",
              "    <tr>\n",
              "      <th rowspan=\"4\" valign=\"top\">message</th>\n",
              "      <th>count</th>\n",
              "      <td>1205</td>\n",
              "      <td>187</td>\n",
              "    </tr>\n",
              "    <tr>\n",
              "      <th>unique</th>\n",
              "      <td>1173</td>\n",
              "      <td>176</td>\n",
              "    </tr>\n",
              "    <tr>\n",
              "      <th>top</th>\n",
              "      <td>sorry, i'll call later</td>\n",
              "      <td>u can win £100 of music gift vouchers every we...</td>\n",
              "    </tr>\n",
              "    <tr>\n",
              "      <th>freq</th>\n",
              "      <td>8</td>\n",
              "      <td>2</td>\n",
              "    </tr>\n",
              "  </tbody>\n",
              "</table>\n",
              "</div>"
            ],
            "text/plain": [
              "label                              ham                                               spam\n",
              "message count                     1205                                                187\n",
              "        unique                    1173                                                176\n",
              "        top     sorry, i'll call later  u can win £100 of music gift vouchers every we...\n",
              "        freq                         8                                                  2"
            ]
          },
          "metadata": {
            "tags": []
          },
          "execution_count": 6
        }
      ]
    },
    {
      "cell_type": "code",
      "metadata": {
        "id": "npr2j_5KWgJs"
      },
      "source": [
        "ham_messages = train_data.loc[train_data['label']=='ham']\n",
        "spam_messages = train_data.loc[train_data['label']=='spam']"
      ],
      "execution_count": 7,
      "outputs": []
    },
    {
      "cell_type": "code",
      "metadata": {
        "id": "QcJlX-ImWxt9"
      },
      "source": [
        "ham_messages_sampled = ham_messages.sample(n=560)"
      ],
      "execution_count": 8,
      "outputs": []
    },
    {
      "cell_type": "code",
      "metadata": {
        "id": "fHSEH3zFXdhO"
      },
      "source": [
        "train_data_downsampled = pd.concat([ham_messages_sampled,spam_messages])"
      ],
      "execution_count": 9,
      "outputs": []
    },
    {
      "cell_type": "code",
      "metadata": {
        "id": "CWmzaZrRYBk8"
      },
      "source": [
        "train_data_downsampled = train_data_downsampled.sample(frac=1).reset_index(drop=True)"
      ],
      "execution_count": 10,
      "outputs": []
    },
    {
      "cell_type": "code",
      "metadata": {
        "id": "a8ho27G9YVoi",
        "outputId": "d3ae0cc5-e5a7-4f3e-acf2-afe4c07e8f04",
        "colab": {
          "base_uri": "https://localhost:8080/",
          "height": 166
        }
      },
      "source": [
        "train_data_downsampled.groupby('label').describe().T"
      ],
      "execution_count": 11,
      "outputs": [
        {
          "output_type": "execute_result",
          "data": {
            "text/html": [
              "<div>\n",
              "<style scoped>\n",
              "    .dataframe tbody tr th:only-of-type {\n",
              "        vertical-align: middle;\n",
              "    }\n",
              "\n",
              "    .dataframe tbody tr th {\n",
              "        vertical-align: top;\n",
              "    }\n",
              "\n",
              "    .dataframe thead th {\n",
              "        text-align: right;\n",
              "    }\n",
              "</style>\n",
              "<table border=\"1\" class=\"dataframe\">\n",
              "  <thead>\n",
              "    <tr style=\"text-align: right;\">\n",
              "      <th></th>\n",
              "      <th>label</th>\n",
              "      <th>ham</th>\n",
              "      <th>spam</th>\n",
              "    </tr>\n",
              "  </thead>\n",
              "  <tbody>\n",
              "    <tr>\n",
              "      <th rowspan=\"4\" valign=\"top\">message</th>\n",
              "      <th>count</th>\n",
              "      <td>560</td>\n",
              "      <td>560</td>\n",
              "    </tr>\n",
              "    <tr>\n",
              "      <th>unique</th>\n",
              "      <td>549</td>\n",
              "      <td>505</td>\n",
              "    </tr>\n",
              "    <tr>\n",
              "      <th>top</th>\n",
              "      <td>sorry, i'll call later</td>\n",
              "      <td>hmv bonus special 500 pounds of genuine hmv vo...</td>\n",
              "    </tr>\n",
              "    <tr>\n",
              "      <th>freq</th>\n",
              "      <td>5</td>\n",
              "      <td>3</td>\n",
              "    </tr>\n",
              "  </tbody>\n",
              "</table>\n",
              "</div>"
            ],
            "text/plain": [
              "label                              ham                                               spam\n",
              "message count                      560                                                560\n",
              "        unique                     549                                                505\n",
              "        top     sorry, i'll call later  hmv bonus special 500 pounds of genuine hmv vo...\n",
              "        freq                         5                                                  3"
            ]
          },
          "metadata": {
            "tags": []
          },
          "execution_count": 11
        }
      ]
    },
    {
      "cell_type": "code",
      "metadata": {
        "id": "6OirwZidaJy-",
        "outputId": "244e08f4-a6b8-4990-f204-c27b0ea8c3eb",
        "colab": {
          "base_uri": "https://localhost:8080/",
          "height": 166
        }
      },
      "source": [
        "test_data.groupby('label').describe().T"
      ],
      "execution_count": 12,
      "outputs": [
        {
          "output_type": "execute_result",
          "data": {
            "text/html": [
              "<div>\n",
              "<style scoped>\n",
              "    .dataframe tbody tr th:only-of-type {\n",
              "        vertical-align: middle;\n",
              "    }\n",
              "\n",
              "    .dataframe tbody tr th {\n",
              "        vertical-align: top;\n",
              "    }\n",
              "\n",
              "    .dataframe thead th {\n",
              "        text-align: right;\n",
              "    }\n",
              "</style>\n",
              "<table border=\"1\" class=\"dataframe\">\n",
              "  <thead>\n",
              "    <tr style=\"text-align: right;\">\n",
              "      <th></th>\n",
              "      <th>label</th>\n",
              "      <th>ham</th>\n",
              "      <th>spam</th>\n",
              "    </tr>\n",
              "  </thead>\n",
              "  <tbody>\n",
              "    <tr>\n",
              "      <th rowspan=\"4\" valign=\"top\">message</th>\n",
              "      <th>count</th>\n",
              "      <td>1205</td>\n",
              "      <td>187</td>\n",
              "    </tr>\n",
              "    <tr>\n",
              "      <th>unique</th>\n",
              "      <td>1173</td>\n",
              "      <td>176</td>\n",
              "    </tr>\n",
              "    <tr>\n",
              "      <th>top</th>\n",
              "      <td>sorry, i'll call later</td>\n",
              "      <td>u can win £100 of music gift vouchers every we...</td>\n",
              "    </tr>\n",
              "    <tr>\n",
              "      <th>freq</th>\n",
              "      <td>8</td>\n",
              "      <td>2</td>\n",
              "    </tr>\n",
              "  </tbody>\n",
              "</table>\n",
              "</div>"
            ],
            "text/plain": [
              "label                              ham                                               spam\n",
              "message count                     1205                                                187\n",
              "        unique                    1173                                                176\n",
              "        top     sorry, i'll call later  u can win £100 of music gift vouchers every we...\n",
              "        freq                         8                                                  2"
            ]
          },
          "metadata": {
            "tags": []
          },
          "execution_count": 12
        }
      ]
    },
    {
      "cell_type": "code",
      "metadata": {
        "id": "bQuOZHsm2RKI"
      },
      "source": [
        "# Defining pre-processing hyperparameters\n",
        "max_len = 50 \n",
        "trunc_type = \"post\" \n",
        "padding_type = \"post\" \n",
        "oov_token = \"<OOV>\" \n",
        "vocab_size = 600"
      ],
      "execution_count": 13,
      "outputs": []
    },
    {
      "cell_type": "code",
      "metadata": {
        "id": "HeApeR2W92-M"
      },
      "source": [
        "words_tokenizer = tf.keras.preprocessing.text.Tokenizer(num_words = vocab_size, char_level=False, oov_token = oov_token)\n",
        "words_tokenizer.fit_on_texts(train_data_downsampled['message'])"
      ],
      "execution_count": 14,
      "outputs": []
    },
    {
      "cell_type": "code",
      "metadata": {
        "id": "vbHBl_Am94-T"
      },
      "source": [
        "# Get the word_index \n",
        "word_index = words_tokenizer.word_index\n"
      ],
      "execution_count": 15,
      "outputs": []
    },
    {
      "cell_type": "code",
      "metadata": {
        "id": "5w4e-_7z9_JS"
      },
      "source": [
        "training_sequences = words_tokenizer.texts_to_sequences(train_data_downsampled['message'])\n",
        "training_padded = tf.keras.preprocessing.sequence.pad_sequences(training_sequences, maxlen = max_len, padding = padding_type, truncating = trunc_type )\n",
        "testing_sequences = words_tokenizer.texts_to_sequences(test_data['message'])\n",
        "testing_padded = tf.keras.preprocessing.sequence.pad_sequences(testing_sequences, maxlen = max_len,padding = padding_type, truncating = trunc_type)"
      ],
      "execution_count": 16,
      "outputs": []
    },
    {
      "cell_type": "code",
      "metadata": {
        "id": "wHxIMfK_EJyz"
      },
      "source": [
        "train_labels = train_data_downsampled['label'].map({'ham': 0., 'spam': 1.}).values\n",
        "test_labels = test_data['label'].map({'ham': 0., 'spam': 1.}).values"
      ],
      "execution_count": 17,
      "outputs": []
    },
    {
      "cell_type": "code",
      "metadata": {
        "id": "aGNp_gnM9_qW"
      },
      "source": [
        "embeding_dim = 16\n",
        "drop_value = 0.5 # dropout\n",
        "n_dense = 16"
      ],
      "execution_count": 18,
      "outputs": []
    },
    {
      "cell_type": "code",
      "metadata": {
        "id": "8JrtnhLE-Be5"
      },
      "source": [
        "#Dense model architecture\n",
        "model = tf.keras.Sequential()\n",
        "model.add(tf.keras.layers.Embedding(vocab_size, embeding_dim, input_length=max_len))\n",
        "model.add(tf.keras.layers.GlobalAveragePooling1D())\n",
        "model.add(tf.keras.layers.Dense(n_dense, activation='relu'))\n",
        "model.add(tf.keras.layers.Dropout(drop_value))\n",
        "model.add(tf.keras.layers.Dense(1, activation='sigmoid'))"
      ],
      "execution_count": 19,
      "outputs": []
    },
    {
      "cell_type": "code",
      "metadata": {
        "id": "4pB56yegDsVy",
        "outputId": "d04e5684-9a30-408d-f7fe-275379d1c29e",
        "colab": {
          "base_uri": "https://localhost:8080/",
          "height": 319
        }
      },
      "source": [
        "model.summary()"
      ],
      "execution_count": 20,
      "outputs": [
        {
          "output_type": "stream",
          "text": [
            "Model: \"sequential\"\n",
            "_________________________________________________________________\n",
            "Layer (type)                 Output Shape              Param #   \n",
            "=================================================================\n",
            "embedding (Embedding)        (None, 50, 16)            9600      \n",
            "_________________________________________________________________\n",
            "global_average_pooling1d (Gl (None, 16)                0         \n",
            "_________________________________________________________________\n",
            "dense (Dense)                (None, 16)                272       \n",
            "_________________________________________________________________\n",
            "dropout (Dropout)            (None, 16)                0         \n",
            "_________________________________________________________________\n",
            "dense_1 (Dense)              (None, 1)                 17        \n",
            "=================================================================\n",
            "Total params: 9,889\n",
            "Trainable params: 9,889\n",
            "Non-trainable params: 0\n",
            "_________________________________________________________________\n"
          ],
          "name": "stdout"
        }
      ]
    },
    {
      "cell_type": "code",
      "metadata": {
        "id": "wbrCx4H5DyVR"
      },
      "source": [
        "model.compile(loss='binary_crossentropy',optimizer='adam' ,metrics=['accuracy'])\n"
      ],
      "execution_count": 21,
      "outputs": []
    },
    {
      "cell_type": "code",
      "metadata": {
        "id": "AK1I0f8FD4Nf",
        "outputId": "61a9e0aa-d64f-4a84-eff7-f9464b266278",
        "colab": {
          "base_uri": "https://localhost:8080/",
          "height": 1000
        }
      },
      "source": [
        "num_epochs = 40\n",
        "early_stop = tf.keras.callbacks.EarlyStopping(monitor='val_loss', patience=6)\n",
        "history = model.fit(training_padded, train_labels, epochs=num_epochs, validation_data=(testing_padded, test_labels),callbacks =[early_stop], verbose=2)"
      ],
      "execution_count": 22,
      "outputs": [
        {
          "output_type": "stream",
          "text": [
            "Epoch 1/40\n",
            "35/35 - 0s - loss: 0.6884 - accuracy: 0.6357 - val_loss: 0.6841 - val_accuracy: 0.8297\n",
            "Epoch 2/40\n",
            "35/35 - 0s - loss: 0.6757 - accuracy: 0.7437 - val_loss: 0.6707 - val_accuracy: 0.8254\n",
            "Epoch 3/40\n",
            "35/35 - 0s - loss: 0.6434 - accuracy: 0.8107 - val_loss: 0.6462 - val_accuracy: 0.8010\n",
            "Epoch 4/40\n",
            "35/35 - 0s - loss: 0.5926 - accuracy: 0.8509 - val_loss: 0.6047 - val_accuracy: 0.8175\n",
            "Epoch 5/40\n",
            "35/35 - 0s - loss: 0.5190 - accuracy: 0.8750 - val_loss: 0.5449 - val_accuracy: 0.8333\n",
            "Epoch 6/40\n",
            "35/35 - 0s - loss: 0.4384 - accuracy: 0.8902 - val_loss: 0.4745 - val_accuracy: 0.8542\n",
            "Epoch 7/40\n",
            "35/35 - 0s - loss: 0.3609 - accuracy: 0.9143 - val_loss: 0.3860 - val_accuracy: 0.8865\n",
            "Epoch 8/40\n",
            "35/35 - 0s - loss: 0.3244 - accuracy: 0.9116 - val_loss: 0.3403 - val_accuracy: 0.9016\n",
            "Epoch 9/40\n",
            "35/35 - 0s - loss: 0.2701 - accuracy: 0.9295 - val_loss: 0.2848 - val_accuracy: 0.9224\n",
            "Epoch 10/40\n",
            "35/35 - 0s - loss: 0.2350 - accuracy: 0.9384 - val_loss: 0.2497 - val_accuracy: 0.9310\n",
            "Epoch 11/40\n",
            "35/35 - 0s - loss: 0.2108 - accuracy: 0.9500 - val_loss: 0.2274 - val_accuracy: 0.9375\n",
            "Epoch 12/40\n",
            "35/35 - 0s - loss: 0.1985 - accuracy: 0.9554 - val_loss: 0.2028 - val_accuracy: 0.9432\n",
            "Epoch 13/40\n",
            "35/35 - 0s - loss: 0.1735 - accuracy: 0.9589 - val_loss: 0.1909 - val_accuracy: 0.9432\n",
            "Epoch 14/40\n",
            "35/35 - 0s - loss: 0.1657 - accuracy: 0.9527 - val_loss: 0.1722 - val_accuracy: 0.9490\n",
            "Epoch 15/40\n",
            "35/35 - 0s - loss: 0.1633 - accuracy: 0.9571 - val_loss: 0.1776 - val_accuracy: 0.9447\n",
            "Epoch 16/40\n",
            "35/35 - 0s - loss: 0.1557 - accuracy: 0.9634 - val_loss: 0.1409 - val_accuracy: 0.9612\n",
            "Epoch 17/40\n",
            "35/35 - 0s - loss: 0.1347 - accuracy: 0.9652 - val_loss: 0.1522 - val_accuracy: 0.9540\n",
            "Epoch 18/40\n",
            "35/35 - 0s - loss: 0.1246 - accuracy: 0.9607 - val_loss: 0.1481 - val_accuracy: 0.9562\n",
            "Epoch 19/40\n",
            "35/35 - 0s - loss: 0.1293 - accuracy: 0.9705 - val_loss: 0.1465 - val_accuracy: 0.9569\n",
            "Epoch 20/40\n",
            "35/35 - 0s - loss: 0.1220 - accuracy: 0.9679 - val_loss: 0.1500 - val_accuracy: 0.9555\n",
            "Epoch 21/40\n",
            "35/35 - 0s - loss: 0.1263 - accuracy: 0.9688 - val_loss: 0.1271 - val_accuracy: 0.9612\n",
            "Epoch 22/40\n",
            "35/35 - 0s - loss: 0.1159 - accuracy: 0.9705 - val_loss: 0.1497 - val_accuracy: 0.9533\n",
            "Epoch 23/40\n",
            "35/35 - 0s - loss: 0.1148 - accuracy: 0.9759 - val_loss: 0.1430 - val_accuracy: 0.9547\n",
            "Epoch 24/40\n",
            "35/35 - 0s - loss: 0.1042 - accuracy: 0.9786 - val_loss: 0.1357 - val_accuracy: 0.9569\n",
            "Epoch 25/40\n",
            "35/35 - 0s - loss: 0.0946 - accuracy: 0.9795 - val_loss: 0.1109 - val_accuracy: 0.9648\n",
            "Epoch 26/40\n",
            "35/35 - 0s - loss: 0.1046 - accuracy: 0.9732 - val_loss: 0.1375 - val_accuracy: 0.9540\n",
            "Epoch 27/40\n",
            "35/35 - 0s - loss: 0.1030 - accuracy: 0.9759 - val_loss: 0.1242 - val_accuracy: 0.9583\n",
            "Epoch 28/40\n",
            "35/35 - 0s - loss: 0.0876 - accuracy: 0.9804 - val_loss: 0.1257 - val_accuracy: 0.9583\n",
            "Epoch 29/40\n",
            "35/35 - 0s - loss: 0.0881 - accuracy: 0.9821 - val_loss: 0.1128 - val_accuracy: 0.9619\n",
            "Epoch 30/40\n",
            "35/35 - 0s - loss: 0.0837 - accuracy: 0.9804 - val_loss: 0.1189 - val_accuracy: 0.9598\n",
            "Epoch 31/40\n",
            "35/35 - 0s - loss: 0.0929 - accuracy: 0.9768 - val_loss: 0.1139 - val_accuracy: 0.9626\n"
          ],
          "name": "stdout"
        }
      ]
    },
    {
      "cell_type": "code",
      "metadata": {
        "id": "ur1S5XzP97XA",
        "outputId": "d4697479-e250-42ed-c543-b2468bd1cf8b",
        "colab": {
          "base_uri": "https://localhost:8080/",
          "height": 499
        }
      },
      "source": [
        "acc = history.history['accuracy']\n",
        "val_acc = history.history['val_accuracy']\n",
        "\n",
        "loss = history.history['loss']\n",
        "val_loss = history.history['val_loss']\n",
        "epochs = early_stop.stopped_epoch\n",
        "epochs += 1 \n",
        "epochs_range = range(epochs)\n",
        "\n",
        "plt.figure(figsize=(8, 8))\n",
        "plt.subplot(1, 2, 1)\n",
        "plt.plot(epochs_range, acc, label='Training Accuracy')\n",
        "plt.plot(epochs_range, val_acc, label='Validation Accuracy')\n",
        "plt.legend(loc='lower right')\n",
        "plt.title('Training and Validation Accuracy')\n",
        "\n",
        "plt.subplot(1, 2, 2)\n",
        "plt.plot(epochs_range, loss, label='Training Loss')\n",
        "plt.plot(epochs_range, val_loss, label='Validation Loss')\n",
        "plt.legend(loc='upper right')\n",
        "plt.title('Training and Validation Loss')\n",
        "plt.savefig('Training_and_Validation_Accuracy.png')\n",
        "plt.show()"
      ],
      "execution_count": 23,
      "outputs": [
        {
          "output_type": "display_data",
          "data": {
            "image/png": "[encoded data removed]",
            "text/plain": [
              "<Figure size 576x576 with 2 Axes>"
            ]
          },
          "metadata": {
            "tags": [],
            "needs_background": "light"
          }
        }
      ]
    },
    {
      "cell_type": "code",
      "metadata": {
        "id": "J9tD9yACG6M9",
        "outputId": "715107e9-9a4f-4607-c432-524ba48e561b",
        "colab": {
          "base_uri": "https://localhost:8080/",
          "height": 34
        }
      },
      "source": [
        "# function to predict messages based on model\n",
        "# (should return list containing prediction and label, ex. [0.008318834938108921, 'ham'])\n",
        "def predict_message(pred_text):\n",
        "  labels = ['ham','spam']\n",
        "  pred_text = [pred_text]\n",
        "  tokenized_seq = words_tokenizer.texts_to_sequences(pred_text)\n",
        "  padded_seq = tf.keras.preprocessing.sequence.pad_sequences(tokenized_seq, maxlen = max_len, padding = padding_type, truncating = trunc_type )\n",
        "  prediction = model.predict(padded_seq).tolist()[0]\n",
        "  label = round(prediction[0])\n",
        "  label = labels[label]\n",
        "  prediction.append(label)\n",
        "  return prediction\n",
        "pred_text = \"how are you doing today?\"\n",
        "\n",
        "prediction = predict_message(pred_text)\n",
        "print(prediction)"
      ],
      "execution_count": 24,
      "outputs": [
        {
          "output_type": "stream",
          "text": [
            "[0.02306237816810608, 'ham']\n"
          ],
          "name": "stdout"
        }
      ]
    },
    {
      "cell_type": "code",
      "metadata": {
        "id": "qMMNp6xDRBom",
        "outputId": "c268e497-1af7-4866-b39a-77b2355f440f",
        "colab": {
          "base_uri": "https://localhost:8080/",
          "height": 134
        }
      },
      "source": [
        "test_messages = [\"how are you doing today\",\n",
        "                   \"sale today! to stop texts call 98912460324\",\n",
        "                   \"i dont want to go. can we try it a different day? available sat\",\n",
        "                   \"our new mobile video service is live. just install on your phone to start watching.\",\n",
        "                   \"you have won £1000 cash! call to claim your prize.\",\n",
        "                   \"i'll bring it tomorrow. don't forget the milk.\",\n",
        "                   \"wow, is your arm alright. that happened to me one time too\"\n",
        "                  ]\n",
        "\n",
        "test_answers = [\"ham\", \"spam\", \"ham\", \"spam\", \"spam\", \"ham\", \"ham\"]\n",
        "passed = True\n",
        "\n",
        "for msg, ans in zip(test_messages, test_answers):\n",
        "  prediction = predict_message(msg)\n",
        "  print(prediction)"
      ],
      "execution_count": 25,
      "outputs": [
        {
          "output_type": "stream",
          "text": [
            "[0.02306237816810608, 'ham']\n",
            "[0.6001617908477783, 'spam']\n",
            "[0.019050180912017822, 'ham']\n",
            "[0.9974952936172485, 'spam']\n",
            "[0.9953740835189819, 'spam']\n",
            "[0.016434848308563232, 'ham']\n",
            "[0.040718674659729004, 'ham']\n"
          ],
          "name": "stdout"
        }
      ]
    },
    {
      "cell_type": "code",
      "metadata": {
        "id": "Dxotov85SjsC",
        "outputId": "ba0d5b36-42d9-4475-cdc1-75139f4ea5b4",
        "colab": {
          "base_uri": "https://localhost:8080/",
          "height": 34
        }
      },
      "source": [
        "# Run this cell to test your function and model. Do not modify contents.\n",
        "def test_predictions():\n",
        "  test_messages = [\"how are you doing today\",\n",
        "                   \"sale today! to stop texts call 98912460324\",\n",
        "                   \"i dont want to go. can we try it a different day? available sat\",\n",
        "                   \"our new mobile video service is live. just install on your phone to start watching.\",\n",
        "                   \"you have won £1000 cash! call to claim your prize.\",\n",
        "                   \"i'll bring it tomorrow. don't forget the milk.\",\n",
        "                   \"wow, is your arm alright. that happened to me one time too\"\n",
        "                  ]\n",
        "\n",
        "  test_answers = [\"ham\", \"spam\", \"ham\", \"spam\", \"spam\", \"ham\", \"ham\"]\n",
        "  passed = True\n",
        "\n",
        "  for msg, ans in zip(test_messages, test_answers):\n",
        "    prediction = predict_message(msg)\n",
        "    if prediction[1] != ans:\n",
        "      passed = False\n",
        "\n",
        "  if passed:\n",
        "    print(\"You passed the challenge. Great job!\")\n",
        "  else:\n",
        "    print(\"You haven't passed yet. Keep trying.\")\n",
        "\n",
        "test_predictions()\n"
      ],
      "execution_count": 26,
      "outputs": [
        {
          "output_type": "stream",
          "text": [
            "You passed the challenge. Great job!\n"
          ],
          "name": "stdout"
        }
      ]
    },
    {
      "cell_type": "code",
      "metadata": {
        "id": "NZL9tiPqc9ts",
        "outputId": "bf1530f6-4425-41ba-94e1-7d752ca5ea93",
        "colab": {
          "base_uri": "https://localhost:8080/",
          "height": 173
        }
      },
      "source": [
        "model.save('model')\n",
        "shutil.make_archive(\"model\", 'zip', \"model\")"
      ],
      "execution_count": 27,
      "outputs": [
        {
          "output_type": "stream",
          "text": [
            "WARNING:tensorflow:From /usr/local/lib/python3.6/dist-packages/tensorflow/python/training/tracking/tracking.py:111: Model.state_updates (from tensorflow.python.keras.engine.training) is deprecated and will be removed in a future version.\n",
            "Instructions for updating:\n",
            "This property should not be used in TensorFlow 2.0, as updates are applied automatically.\n",
            "WARNING:tensorflow:From /usr/local/lib/python3.6/dist-packages/tensorflow/python/training/tracking/tracking.py:111: Layer.updates (from tensorflow.python.keras.engine.base_layer) is deprecated and will be removed in a future version.\n",
            "Instructions for updating:\n",
            "This property should not be used in TensorFlow 2.0, as updates are applied automatically.\n",
            "INFO:tensorflow:Assets written to: model/assets\n"
          ],
          "name": "stdout"
        },
        {
          "output_type": "execute_result",
          "data": {
            "application/vnd.google.colaboratory.intrinsic+json": {
              "type": "string"
            },
            "text/plain": [
              "'/content/model.zip'"
            ]
          },
          "metadata": {
            "tags": []
          },
          "execution_count": 27
        }
      ]
    }
  ]
}